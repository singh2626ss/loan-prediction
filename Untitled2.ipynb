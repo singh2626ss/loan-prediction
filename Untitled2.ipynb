{
  "nbformat": 4,
  "nbformat_minor": 0,
  "metadata": {
    "colab": {
      "provenance": [],
      "authorship_tag": "ABX9TyMOjbhWE9FNZArQP1nVSNem",
      "include_colab_link": true
    },
    "kernelspec": {
      "name": "python3",
      "display_name": "Python 3"
    },
    "language_info": {
      "name": "python"
    }
  },
  "cells": [
    {
      "cell_type": "markdown",
      "metadata": {
        "id": "view-in-github",
        "colab_type": "text"
      },
      "source": [
        "<a href=\"https://colab.research.google.com/github/singh2626ss/loan-prediction/blob/main/Untitled2.ipynb\" target=\"_parent\"><img src=\"https://colab.research.google.com/assets/colab-badge.svg\" alt=\"Open In Colab\"/></a>"
      ]
    },
    {
      "cell_type": "code",
      "execution_count": null,
      "metadata": {
        "id": "IBa5h8xxP8VQ"
      },
      "outputs": [],
      "source": [
        "%matplotlib inline\n",
        "import numpy as np\n",
        "import pandas as pd\n",
        "import matplotlib.pyplot as plt\n",
        "import seaborn as sns\n",
        "import warnings\n",
        "warnings.filterwarnings(\"ignore\")\n",
        "train = pd.read_csv(\"train_u6lujuX_CVtuZ9i.csv\")\n",
        "test = pd.read_csv(\"test_Y3wMUE5_7gLdaTN.csv\")"
      ]
    },
    {
      "cell_type": "code",
      "source": [
        "\n",
        "train_original = train.copy()\n",
        "test_original = test.copy()"
      ],
      "metadata": {
        "id": "8rFZjiN0SoqH"
      },
      "execution_count": null,
      "outputs": []
    },
    {
      "cell_type": "code",
      "source": [
        "# take a look at the top 5 rows of the train set, notice the column \"Loan_Status\"\n",
        "train.head()"
      ],
      "metadata": {
        "id": "aHpeBR9YV1kt"
      },
      "execution_count": null,
      "outputs": []
    },
    {
      "cell_type": "code",
      "source": [
        "# take a look at the top 5 rows of the test set, notice the absense of \"Loan_Status\" that we will predict\n",
        "test.head()"
      ],
      "metadata": {
        "id": "VYoKRX_NVzM5"
      },
      "execution_count": null,
      "outputs": []
    },
    {
      "cell_type": "code",
      "source": [
        "# show the shape of the dataset i.e. no of rows, no of columns\n",
        "train.shape, test.shape\n",
        "# take a look at the features (i.e. independent variables) in the dataset\n",
        "train.columns, test.column "
      ],
      "metadata": {
        "id": "E6uqvpC3WteA"
      },
      "execution_count": null,
      "outputs": []
    },
    {
      "cell_type": "code",
      "source": [
        "# show the data types for each column of the train set\n",
        "train.dtypes"
      ],
      "metadata": {
        "id": "rBLVO9hRW51t"
      },
      "execution_count": null,
      "outputs": []
    },
    {
      "cell_type": "code",
      "source": [
        "# concise summary of the dataset, info about index dtype, column dtypes, non-null values and memory usage\n",
        "train.info()"
      ],
      "metadata": {
        "id": "eXothXmoXAaS"
      },
      "execution_count": null,
      "outputs": []
    },
    {
      "cell_type": "code",
      "source": [
        "# frequency table of a variable will give us the count of each category in that variable\n",
        "train['Loan_Status'].value_counts()\n",
        "# percentage distribution can be calculated by setting the normalize=True to show proportions instead of number \n",
        "train['Loan_Status'].value_counts(normalize=True)"
      ],
      "metadata": {
        "id": "a8_xQGDIXTwl"
      },
      "execution_count": null,
      "outputs": []
    },
    {
      "cell_type": "code",
      "source": [
        "# bar plot to visualize the frequency\n",
        "train['Loan_Status'].value_counts().plot.bar()"
      ],
      "metadata": {
        "id": "2QZaL9cVXZe4"
      },
      "execution_count": null,
      "outputs": []
    },
    {
      "cell_type": "code",
      "source": [
        "# Visualizing categorical features\n",
        "# plt.figure(1)\n",
        "plt.subplot(231)\n",
        "train['Gender'].value_counts(normalize=True).plot.bar(figsize=(20,10), title= 'Gender')\n",
        "\n",
        "plt.subplot(232)\n",
        "train['Married'].value_counts(normalize=True).plot.bar(title= 'Married')\n",
        "\n",
        "plt.subplot(233)\n",
        "train['Self_Employed'].value_counts(normalize=True).plot.bar(title= 'Self_Employed')\n",
        "\n",
        "plt.subplot(234)\n",
        "train['Credit_History'].value_counts(normalize=True).plot.bar(title= 'Credit_History')\n",
        "\n",
        "plt.subplot(235)\n",
        "train['Education'].value_counts(normalize=True).plot.bar(title= 'Education')\n",
        "\n",
        "plt.show()"
      ],
      "metadata": {
        "id": "nO60_Cb6XdUM"
      },
      "execution_count": null,
      "outputs": []
    },
    {
      "cell_type": "code",
      "source": [
        "# Visualizing remaining categorical features\n",
        "# plt.figure(1)\n",
        "plt.subplot(121)\n",
        "train['Dependents'].value_counts(normalize=True).plot.bar(figsize=(12,4), title= 'Dependents')\n",
        "\n",
        "plt.subplot(122)\n",
        "train['Property_Area'].value_counts(normalize=True).plot.bar(title= 'Property_Area')\n",
        "\n",
        "plt.show()"
      ],
      "metadata": {
        "id": "ICcoj_jpXmHj"
      },
      "execution_count": null,
      "outputs": []
    },
    {
      "cell_type": "code",
      "source": [
        "# Visualizing ApplicantIncome\n",
        "# plt.figure(1)\n",
        "plt.subplot(121)\n",
        "sns.distplot(train['ApplicantIncome']);\n",
        "\n",
        "plt.subplot(122)\n",
        "train['ApplicantIncome'].plot.box(figsize=(16,5))\n",
        "\n",
        "plt.show()"
      ],
      "metadata": {
        "id": "p6t52ij2XquA"
      },
      "execution_count": null,
      "outputs": []
    },
    {
      "cell_type": "code",
      "source": [
        "train.boxplot(column='ApplicantIncome', by = 'Education')\n",
        "plt.suptitle(\"\")"
      ],
      "metadata": {
        "id": "ZCpzydJGXvX3"
      },
      "execution_count": null,
      "outputs": []
    },
    {
      "cell_type": "code",
      "source": [
        "# plt.figure(1)\n",
        "plt.subplot(121)\n",
        "sns.distplot(train['CoapplicantIncome']);\n",
        "\n",
        "plt.subplot(122)\n",
        "train['CoapplicantIncome'].plot.box(figsize=(16,5))\n",
        "\n",
        "plt.show()"
      ],
      "metadata": {
        "id": "b9SCif1eX1eS"
      },
      "execution_count": null,
      "outputs": []
    },
    {
      "cell_type": "code",
      "source": [
        "# plt.figure(1)\n",
        "plt.subplot(121)\n",
        "df=train.dropna()\n",
        "sns.distplot(df['LoanAmount']);\n",
        "\n",
        "plt.subplot(122)\n",
        "train['LoanAmount'].plot.box(figsize=(16,5))\n",
        "\n",
        "plt.show()"
      ],
      "metadata": {
        "id": "fl2pwT1FX5MQ"
      },
      "execution_count": null,
      "outputs": []
    },
    {
      "cell_type": "code",
      "source": [
        "train.boxplot(column='ApplicantIncome', by = 'Education')\n",
        "plt.suptitle(\"\")\n",
        "# frequency table of a variable will give us the count of each category in that variable\n",
        "train['Loan_Amount_Term'].value_counts()"
      ],
      "metadata": {
        "id": "VXBMcXizYpYf"
      },
      "execution_count": null,
      "outputs": []
    },
    {
      "cell_type": "code",
      "source": [
        "print(pd.crosstab(train['Gender'],train['Loan_Status']))\n",
        "\n",
        "Gender = pd.crosstab(train['Gender'],train['Loan_Status'])\n",
        "Gender.div(Gender.sum(1).astype(float), axis = 0).plot(kind=\"bar\", stacked=True, figsize=(4,4))\n",
        "plt.xlabel('Gender')\n",
        "p = plt.ylabel('Percentage')"
      ],
      "metadata": {
        "id": "k5xZ-NZdY5vU"
      },
      "execution_count": null,
      "outputs": []
    },
    {
      "cell_type": "code",
      "source": [
        "print(pd.crosstab(train['Married'],train['Loan_Status']))\n",
        "\n",
        "Married = pd.crosstab(train['Married'],train['Loan_Status'])\n",
        "Married.div(Married.sum(1).astype(float), axis=0).plot(kind=\"bar\", stacked=True, figsize=(4,4))\n",
        "plt.xlabel('Married')\n",
        "p = plt.ylabel('Percentage')"
      ],
      "metadata": {
        "id": "1t_AOKeqY-7k"
      },
      "execution_count": null,
      "outputs": []
    },
    {
      "cell_type": "code",
      "source": [
        "print(pd.crosstab(train['Education'],train['Loan_Status']))\n",
        "\n",
        "Education=pd.crosstab(train['Education'],train['Loan_Status'])\n",
        "Education.div(Education.sum(1).astype(float), axis=0).plot(kind=\"bar\", stacked=True, figsize=(4,4))\n",
        "plt.xlabel('Education')\n",
        "p = plt.ylabel('Percentage')"
      ],
      "metadata": {
        "id": "gh_fNgRBZFIS"
      },
      "execution_count": null,
      "outputs": []
    },
    {
      "cell_type": "code",
      "source": [
        "print(pd.crosstab(train['Credit_History'],train['Loan_Status']))\n",
        "\n",
        "Credit_History=pd.crosstab(train['Credit_History'],train['Loan_Status'])\n",
        "Credit_History.div(Credit_History.sum(1).astype(float), axis=0).plot(kind=\"bar\", stacked=True, figsize=(4,4))\n",
        "plt.xlabel('Credit_History')\n",
        "p = plt.ylabel('Percentage')"
      ],
      "metadata": {
        "id": "vAC4bS5aZJXM"
      },
      "execution_count": null,
      "outputs": []
    },
    {
      "cell_type": "code",
      "source": [
        "print(train.groupby('Loan_Status')['ApplicantIncome'].mean())\n",
        "\n",
        "train.groupby('Loan_Status')['ApplicantIncome'].mean().plot.bar()"
      ],
      "metadata": {
        "id": "1VfrG69VZNs2"
      },
      "execution_count": null,
      "outputs": []
    },
    {
      "cell_type": "code",
      "source": [
        "# making bins for applicant income variable\n",
        "bins = [0,2500,4000,6000,81000]\n",
        "group = ['Low','Average','High', 'Very high']\n",
        "train['Income_bin'] = pd.cut(df['ApplicantIncome'],bins,labels=group)"
      ],
      "metadata": {
        "id": "hCJ-IqADZS_0"
      },
      "execution_count": null,
      "outputs": []
    },
    {
      "cell_type": "code",
      "source": [
        "# take a look at the train set\n",
        "train.head(8)"
      ],
      "metadata": {
        "id": "YqE5Yc6EZau_"
      },
      "execution_count": null,
      "outputs": []
    },
    {
      "cell_type": "code",
      "source": [
        "print(pd.crosstab(train['Income_bin'],train['Loan_Status']))\n",
        "\n",
        "Income_bin = pd.crosstab(train['Income_bin'],train['Loan_Status'])\n",
        "Income_bin.div(Income_bin.sum(1).astype(float), axis=0).plot(kind=\"bar\", stacked=True)\n",
        "plt.xlabel('ApplicantIncome')\n",
        "P = plt.ylabel('Percentage')"
      ],
      "metadata": {
        "id": "7g0gTP3oZe86"
      },
      "execution_count": null,
      "outputs": []
    },
    {
      "cell_type": "code",
      "source": [
        "# making bins for Coapplicant income variable\n",
        "bins = [0,1000,3000,42000]\n",
        "group = ['Low','Average','High']\n",
        "train['Coapplicant_Income_bin'] = pd.cut(df['CoapplicantIncome'],bins,labels=group)"
      ],
      "metadata": {
        "id": "3EH5EVTtZjEE"
      },
      "execution_count": null,
      "outputs": []
    },
    {
      "cell_type": "code",
      "source": [
        "print(len(train[train[\"CoapplicantIncome\"] == 0]))\n",
        "\"Percentage of CoapplicantIncome = 0 is:\",  len(train[train[\"CoapplicantIncome\"] == 0])/len(train[\"CoapplicantIncome\"])"
      ],
      "metadata": {
        "id": "MlR5tK_7ZoXa"
      },
      "execution_count": null,
      "outputs": []
    },
    {
      "cell_type": "code",
      "source": [
        "# create a new variable\n",
        "train['Total_Income'] = train['ApplicantIncome'] + train['CoapplicantIncome']"
      ],
      "metadata": {
        "id": "rJ8kDu-RZuww"
      },
      "execution_count": null,
      "outputs": []
    },
    {
      "cell_type": "code",
      "source": [
        "# making bins for Total Income variable\n",
        "bins = [0,2500,4000,6000,81000]\n",
        "group = ['Low','Average','High', 'Very high']\n",
        "train['Total_Income_bin'] = pd.cut(train['Total_Income'],bins,labels=group)"
      ],
      "metadata": {
        "id": "jJl8rI5KZ1JD"
      },
      "execution_count": null,
      "outputs": []
    },
    {
      "cell_type": "code",
      "source": [
        "# plot the chart\n",
        "Total_Income_bin = pd.crosstab(train['Total_Income_bin'],train['Loan_Status'])\n",
        "Total_Income_bin.div(Total_Income_bin.sum(1).astype(float), axis=0).plot(kind=\"bar\", stacked=True)\n",
        "plt.xlabel('Total_Income')\n",
        "P = plt.ylabel('Percentage')"
      ],
      "metadata": {
        "id": "H1vIPHdGZ5QE"
      },
      "execution_count": null,
      "outputs": []
    },
    {
      "cell_type": "code",
      "source": [
        "# before dropping\n",
        "train.head()"
      ],
      "metadata": {
        "id": "Uu9AVpBtaImy"
      },
      "execution_count": null,
      "outputs": []
    },
    {
      "cell_type": "code",
      "source": [
        "# drop the new variable of bins\n",
        "train = train.drop(['Income_bin', 'Coapplicant_Income_bin', 'LoanAmount_bin', 'Total_Income_bin', 'Total_Income'], axis=1)"
      ],
      "metadata": {
        "id": "hR-EDtOpaOgh"
      },
      "execution_count": null,
      "outputs": []
    },
    {
      "cell_type": "code",
      "source": [
        "# after dropping\n",
        "train.head()"
      ],
      "metadata": {
        "id": "LdjRwauFaR2x"
      },
      "execution_count": null,
      "outputs": []
    },
    {
      "cell_type": "code",
      "source": [
        "# replacing 3+ in Dependents variable with 3 for both train and test set\n",
        "train['Dependents'].replace('3+', 3, inplace=True)\n",
        "test['Dependents'].replace('3+', 3, inplace=True)"
      ],
      "metadata": {
        "id": "5_GYiiqkaVnQ"
      },
      "execution_count": null,
      "outputs": []
    },
    {
      "cell_type": "code",
      "source": [
        "# replacing Y and N in Loan_Status variable with 1 and 0 respectively\n",
        "train['Loan_Status'].replace('N', 0, inplace=True)\n",
        "train['Loan_Status'].replace('Y', 1, inplace=True)"
      ],
      "metadata": {
        "id": "hoL2FH3XaZOJ"
      },
      "execution_count": null,
      "outputs": []
    },
    {
      "cell_type": "code",
      "source": [
        "# check the dataset\n",
        "train.head()"
      ],
      "metadata": {
        "id": "h2s2ZXg8aciM"
      },
      "execution_count": null,
      "outputs": []
    },
    {
      "cell_type": "code",
      "source": [
        "# calculate and visualize correlation matrix\n",
        "matrix = train.corr()\n",
        "f, ax = plt.subplots(figsize=(9, 6))\n",
        "sns.heatmap(matrix, vmax=1, square=True, cmap=\"BuPu\", annot=True)\n",
        "\n",
        "matrix"
      ],
      "metadata": {
        "id": "FuGbLr5wagU6"
      },
      "execution_count": null,
      "outputs": []
    },
    {
      "cell_type": "code",
      "source": [
        "# check for missing values\n",
        "train.isnull().sum()"
      ],
      "metadata": {
        "id": "EjeeOawnalcm"
      },
      "execution_count": null,
      "outputs": []
    },
    {
      "cell_type": "code",
      "source": [
        "# replace missing values with the mode\n",
        "train['Gender'].fillna(train['Gender'].mode()[0], inplace=True)\n",
        "train['Married'].fillna(train['Married'].mode()[0], inplace=True)\n",
        "train['Dependents'].fillna(train['Dependents'].mode()[0], inplace=True)\n",
        "train['Self_Employed'].fillna(train['Self_Employed'].mode()[0], inplace=True)\n",
        "train['Credit_History'].fillna(train['Credit_History'].mode()[0], inplace=True)"
      ],
      "metadata": {
        "id": "uYaHDLvdamf8"
      },
      "execution_count": null,
      "outputs": []
    },
    {
      "cell_type": "code",
      "source": [
        "train['Loan_Amount_Term'].value_counts()"
      ],
      "metadata": {
        "id": "vGyCX5o9aqjw"
      },
      "execution_count": null,
      "outputs": []
    },
    {
      "cell_type": "code",
      "source": [
        "# replace missing value with the mode\n",
        "train['Loan_Amount_Term'].fillna(train['Loan_Amount_Term'].mode()[0], inplace=True)"
      ],
      "metadata": {
        "id": "AjlOLMFBawDe"
      },
      "execution_count": null,
      "outputs": []
    },
    {
      "cell_type": "code",
      "source": [
        "# replace missing values with the median value due to outliers\n",
        "train['LoanAmount'].fillna(train['LoanAmount'].median(), inplace=True)"
      ],
      "metadata": {
        "id": "T3_w1Hbaay5V"
      },
      "execution_count": null,
      "outputs": []
    },
    {
      "cell_type": "code",
      "source": [
        "# check whether all the missing values are filled in the Train dataset\n",
        "train.isnull().sum()"
      ],
      "metadata": {
        "id": "h9Lr04c5a3US"
      },
      "execution_count": null,
      "outputs": []
    },
    {
      "cell_type": "code",
      "source": [
        "# replace missing values in Test set with mode/median from Training set\n",
        "test['Gender'].fillna(train['Gender'].mode()[0], inplace=True)\n",
        "test['Dependents'].fillna(train['Dependents'].mode()[0], inplace=True)\n",
        "test['Self_Employed'].fillna(train['Self_Employed'].mode()[0], inplace=True)\n",
        "test['Credit_History'].fillna(train['Credit_History'].mode()[0], inplace=True)\n",
        "test['Loan_Amount_Term'].fillna(train['Loan_Amount_Term'].mode()[0], inplace=True)\n",
        "test['LoanAmount'].fillna(train['LoanAmount'].median(), inplace=True)"
      ],
      "metadata": {
        "id": "zsDZLmILa_QR"
      },
      "execution_count": null,
      "outputs": []
    },
    {
      "cell_type": "code",
      "source": [
        "# check whether all the missing values are filled in the Test dataset\n",
        "test.isnull().sum()"
      ],
      "metadata": {
        "id": "pzSdF2kmbDd7"
      },
      "execution_count": null,
      "outputs": []
    },
    {
      "cell_type": "code",
      "source": [
        "# before log transformation\n",
        "\n",
        "ax1 = plt.subplot(121)\n",
        "train['LoanAmount'].hist(bins=20, figsize=(12,4))\n",
        "ax1.set_title(\"Train\")\n",
        "\n",
        "ax2 = plt.subplot(122)\n",
        "test['LoanAmount'].hist(bins=20)\n",
        "ax2.set_title(\"Test\")"
      ],
      "metadata": {
        "id": "78oDq6PFbK__"
      },
      "execution_count": null,
      "outputs": []
    },
    {
      "cell_type": "code",
      "source": [
        "# Removing skewness in LoanAmount variable by log transformation\n",
        "train['LoanAmount_log'] = np.log(train['LoanAmount'])\n",
        "test['LoanAmount_log'] = np.log(test['LoanAmount'])"
      ],
      "metadata": {
        "id": "bCdl9N_ObOFF"
      },
      "execution_count": null,
      "outputs": []
    },
    {
      "cell_type": "code",
      "source": [
        "# after log transformation\n",
        "\n",
        "ax1 = plt.subplot(121)\n",
        "train['LoanAmount_log'].hist(bins=20, figsize=(12,4))\n",
        "ax1.set_title(\"Train\")\n",
        "\n",
        "ax2 = plt.subplot(122)\n",
        "test['LoanAmount_log'].hist(bins=20)\n",
        "ax2.set_title(\"Test\")"
      ],
      "metadata": {
        "id": "6YvuxWtvbQ9d"
      },
      "execution_count": null,
      "outputs": []
    },
    {
      "cell_type": "code",
      "source": [
        "# drop Loan_ID \n",
        "train = train.drop('Loan_ID', axis=1)\n",
        "test = test.drop('Loan_ID', axis=1)\n"
      ],
      "metadata": {
        "id": "NBFwRxHfbWxQ"
      },
      "execution_count": null,
      "outputs": []
    },
    {
      "cell_type": "code",
      "source": [
        "# drop \"Loan_Status\" and assign it to target variable\n",
        "X = train.drop('Loan_Status', 1)\n",
        "y = train.Loan_Status\n"
      ],
      "metadata": {
        "id": "tDIasXqKbaXp"
      },
      "execution_count": null,
      "outputs": []
    }
  ]
}